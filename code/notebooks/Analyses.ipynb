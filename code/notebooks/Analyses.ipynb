{
 "cells": [
  {
   "cell_type": "code",
   "execution_count": null,
   "metadata": {
    "collapsed": false
   },
   "outputs": [],
   "source": [
    "%matplotlib notebook"
   ]
  },
  {
   "cell_type": "code",
   "execution_count": null,
   "metadata": {
    "collapsed": true
   },
   "outputs": [],
   "source": [
    "import matplotlib.pyplot as plt\n",
    "import numpy as np"
   ]
  },
  {
   "cell_type": "code",
   "execution_count": null,
   "metadata": {
    "collapsed": true
   },
   "outputs": [],
   "source": [
    "import json\n",
    "from datetime import datetime"
   ]
  },
  {
   "cell_type": "code",
   "execution_count": null,
   "metadata": {
    "collapsed": false
   },
   "outputs": [],
   "source": [
    "def msg_date(m):\n",
    "    return datetime.fromtimestamp(m['timestamp']/1000)\n",
    "\n",
    "def auth(a):\n",
    "    return a\n",
    "#     return {\n",
    "#         'their_id': 'their_name',\n",
    "#         'your_id': 'your_name'\n",
    "#     }[a]"
   ]
  },
  {
   "cell_type": "code",
   "execution_count": null,
   "metadata": {
    "collapsed": true
   },
   "outputs": [],
   "source": [
    "data = json.loads(open('../../data/complete.min.json', 'r').read())"
   ]
  },
  {
   "cell_type": "markdown",
   "metadata": {},
   "source": [
    "- `times`: $(year, month, day)$ tuples\n",
    "- `datetimes`: `datetime` objects\n",
    "- `days`: "
   ]
  },
  {
   "cell_type": "code",
   "execution_count": null,
   "metadata": {
    "collapsed": true
   },
   "outputs": [],
   "source": [
    "datetimes = []\n",
    "times = set()\n",
    "days = set()\n",
    "yearmonths = set()\n",
    "one_month_data = []\n",
    "for d in data:\n",
    "    date = msg_date(d)\n",
    "    datetimes.append(date)\n",
    "    days.add(date.date())\n",
    "    yearmonths.add((date.year, date.month))\n",
    "    times.add(date)\n",
    "    if date.year == 2016 and date.month == 4:\n",
    "        one_month_data.append(d)"
   ]
  },
  {
   "cell_type": "markdown",
   "metadata": {},
   "source": [
    "## Histogram By Day"
   ]
  },
  {
   "cell_type": "code",
   "execution_count": null,
   "metadata": {
    "collapsed": false
   },
   "outputs": [],
   "source": [
    "plt.figure(0)\n",
    "plt.hist(datetimes, bins=len(days))\n",
    "plt.xlabel('Date')\n",
    "plt.ylabel('Number of Messages')\n",
    "plt.suptitle('{} Messages over {} Days'.format(len(data), len(days)), fontsize=18)\n",
    "plt.show()"
   ]
  },
  {
   "cell_type": "code",
   "execution_count": null,
   "metadata": {
    "collapsed": false
   },
   "outputs": [],
   "source": [
    "plt.figure(1)\n",
    "plt.hist(datetimes, bins=len(yearmonths))\n",
    "plt.xlabel('Month')\n",
    "plt.ylabel('Number of Messages')\n",
    "plt.suptitle('{} Messages over {} Months'.format(len(data), len(yearmonths)), fontsize=18)\n",
    "plt.show()"
   ]
  },
  {
   "cell_type": "code",
   "execution_count": null,
   "metadata": {
    "collapsed": true
   },
   "outputs": [],
   "source": [
    "senders = ['their_id', 'your_id']\n",
    "messages_by_sender = {}\n",
    "for msg in data:\n",
    "    if msg['author'] not in messages_by_sender:\n",
    "        messages_by_sender[msg['author']] = []\n",
    "    messages_by_sender[msg['author']].append(msg['timestamp'])"
   ]
  },
  {
   "cell_type": "code",
   "execution_count": null,
   "metadata": {
    "collapsed": false
   },
   "outputs": [],
   "source": [
    "plt.figure(2)\n",
    "plt.hist([messages_by_sender[s] for s in senders], bins=27)\n",
    "plt.xlabel('Date')\n",
    "plt.ylabel('Number of Messages')\n",
    "plt.suptitle('{} Messages over {} Months'.format(len(data), len(yearmonths)), fontsize=18)\n",
    "plt.show()"
   ]
  },
  {
   "cell_type": "code",
   "execution_count": null,
   "metadata": {
    "collapsed": false
   },
   "outputs": [],
   "source": [
    "messages_by_sender.keys()"
   ]
  },
  {
   "cell_type": "markdown",
   "metadata": {},
   "source": [
    "## One Month"
   ]
  },
  {
   "cell_type": "code",
   "execution_count": null,
   "metadata": {
    "collapsed": false
   },
   "outputs": [],
   "source": [
    "messages_by_sender = {}\n",
    "for msg in one_month_data:\n",
    "    if msg['author'] not in messages_by_sender:\n",
    "        messages_by_sender[msg['author']] = []\n",
    "    messages_by_sender[msg['author']].append(msg['timestamp'])\n",
    "\n",
    "plt.figure(3)\n",
    "plt.hist([messages_by_sender[s] for s in senders], bins=31)\n",
    "plt.xlabel('Date')\n",
    "# plt.xlim(1, 0)\n",
    "locs, labels = plt.xticks()\n",
    "plt.xticks(locs, [datetime.fromtimestamp(t/1000).day for t in locs])\n",
    "plt.ylabel('Number of Messages')\n",
    "plt.suptitle('{} Messages in April 2016'.format(len(one_month_data)), fontsize=18)\n",
    "plt.show()"
   ]
  },
  {
   "cell_type": "markdown",
   "metadata": {},
   "source": [
    "## Time and Day of Week"
   ]
  },
  {
   "cell_type": "code",
   "execution_count": null,
   "metadata": {
    "collapsed": false
   },
   "outputs": [],
   "source": [
    "weekdays = []\n",
    "hours = []\n",
    "attrs = []\n",
    "for d1 in data:\n",
    "    weekdays.append(msg_date(d1).weekday())\n",
    "    hours.append(msg_date(d1).hour)\n",
    "    attrs.append(len(d1['body']))"
   ]
  },
  {
   "cell_type": "code",
   "execution_count": null,
   "metadata": {
    "collapsed": false
   },
   "outputs": [],
   "source": [
    "plt.figure(4)\n",
    "plt.scatter(weekdays, hours, s=attrs, alpha=0.1)\n",
    "plt.ylim(-1, 25)\n",
    "plt.gca().invert_yaxis()\n",
    "locs, labels = plt.xticks()\n",
    "plt.xticks(locs, [''] + [['M', 'T', 'W', 'Th', 'Fr', 'S', 'Su'][int(t)] for t in locs[1:-1]])\n",
    "plt.show()"
   ]
  },
  {
   "cell_type": "markdown",
   "metadata": {},
   "source": [
    "## Occurrence of Substring in Message"
   ]
  },
  {
   "cell_type": "code",
   "execution_count": null,
   "metadata": {
    "collapsed": true
   },
   "outputs": [],
   "source": [
    "QRY = \":)\""
   ]
  },
  {
   "cell_type": "code",
   "execution_count": null,
   "metadata": {
    "collapsed": false
   },
   "outputs": [],
   "source": [
    "attrs = []\n",
    "[attrs.append(( d1['body'].lower().count(QRY)) * 100 ) for d1 in data]\n",
    "\n",
    "times = []\n",
    "[times.append(msg_date(d1).time()) for d1 in data]\n",
    "\n",
    "plt.figure(5)\n",
    "plt.scatter(weekdays, times, s=attrs, alpha=0.1)\n",
    "plt.gca().invert_yaxis()\n",
    "locs, labels = plt.xticks()\n",
    "plt.ylabel('Time')\n",
    "plt.xlabel('Day of the Week')\n",
    "plt.suptitle('Occurrence of \"{}\" Throughout the Week'.format(QRY), fontsize=17)\n",
    "plt.xticks(locs, [''] + [['M', 'T', 'W', 'Th', 'Fr', 'S', 'Su'][int(t)] for t in locs[1:-1]])\n",
    "plt.show()"
   ]
  },
  {
   "cell_type": "code",
   "execution_count": null,
   "metadata": {
    "collapsed": false
   },
   "outputs": [],
   "source": [
    "def scrplay(msg):\n",
    "    return \"{}: {}\".format(auth(msg['author']), msg['body'])\n",
    "\n",
    "_ = [\n",
    "    print(\n",
    "        \"\\n\".join([\n",
    "                scrplay(data[m-1]),\n",
    "                scrplay(data[m])\n",
    "        ])\n",
    "    ) for m in range(len(data)) if (\n",
    "        data[m]['body'].count(QRY)\n",
    "    )\n",
    "]"
   ]
  },
  {
   "cell_type": "code",
   "execution_count": null,
   "metadata": {
    "collapsed": false
   },
   "outputs": [],
   "source": [
    "qry_occurs = []\n",
    "for m in data:\n",
    "    if m['body'].count(QRY):\n",
    "        qry_occurs.append(msg_date(m))\n",
    "\n",
    "plt.figure(6)\n",
    "plt.hist(qry_occurs, bins=len(days))\n",
    "plt.suptitle(\"Occurrence of {} over time\".format(QRY), fontsize=17)\n",
    "plt.xlabel('Date')\n",
    "plt.xticks(rotation=20)\n",
    "plt.ylabel('Number of Messages')\n",
    "plt.show()"
   ]
  }
 ],
 "metadata": {
  "kernelspec": {
   "display_name": "Python 3",
   "language": "python",
   "name": "python3"
  },
  "language_info": {
   "codemirror_mode": {
    "name": "ipython",
    "version": 3
   },
   "file_extension": ".py",
   "mimetype": "text/x-python",
   "name": "python",
   "nbconvert_exporter": "python",
   "pygments_lexer": "ipython3",
   "version": "3.5.1"
  }
 },
 "nbformat": 4,
 "nbformat_minor": 0
}

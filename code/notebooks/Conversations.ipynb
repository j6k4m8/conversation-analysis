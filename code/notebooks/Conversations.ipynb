{
 "cells": [
  {
   "cell_type": "code",
   "execution_count": null,
   "metadata": {
    "collapsed": false
   },
   "outputs": [],
   "source": [
    "%matplotlib notebook"
   ]
  },
  {
   "cell_type": "code",
   "execution_count": null,
   "metadata": {
    "collapsed": true
   },
   "outputs": [],
   "source": [
    "import matplotlib.pyplot as plt\n",
    "import numpy as np"
   ]
  },
  {
   "cell_type": "code",
   "execution_count": null,
   "metadata": {
    "collapsed": true
   },
   "outputs": [],
   "source": [
    "import json\n",
    "from datetime import datetime\n",
    "from collections import namedtuple"
   ]
  },
  {
   "cell_type": "code",
   "execution_count": null,
   "metadata": {
    "collapsed": false
   },
   "outputs": [],
   "source": [
    "Message = namedtuple('Message', ['timestamp', 'body', 'author'])\n",
    "\n",
    "def msg_date(m):\n",
    "    return datetime.fromtimestamp(m['timestamp']/1000)\n",
    "\n",
    "def auth(a):\n",
    "    return a\n",
    "#     return {\n",
    "#         'their_id': 'their_name',\n",
    "#         'your_id': 'your_name',\n",
    "#         'their_name': 'their_name',\n",
    "#         'your_name': 'your_name'\n",
    "#     }[a]\n",
    "\n",
    "def scrplay(msg):\n",
    "    return \"{}: {}\".format(auth(msg['author']), msg['body'])"
   ]
  },
  {
   "cell_type": "code",
   "execution_count": null,
   "metadata": {
    "collapsed": false
   },
   "outputs": [],
   "source": [
    "data = json.loads(open('../../data/complete.min.json', 'r').read())\n",
    "\n",
    "data = [\n",
    "    Message(\n",
    "        timestamp=d['timestamp'], \n",
    "        body=d['body'], \n",
    "        author=auth(d['author']))\n",
    "    for d in data\n",
    "]"
   ]
  },
  {
   "cell_type": "markdown",
   "metadata": {},
   "source": [
    "## Clustering Conversations\n",
    "\n",
    "To cluster by conversation, we have to know what the time delay between messages is, and what constitutes a new 'conversation'. To do this, simply plot time-since-last-message."
   ]
  },
  {
   "cell_type": "code",
   "execution_count": null,
   "metadata": {
    "collapsed": false
   },
   "outputs": [],
   "source": [
    "times = []\n",
    "n_back = 2\n",
    "for m in range(n_back, len(data[n_back:])):\n",
    "    times.append((data[m].timestamp - data[m - 1].timestamp) / data[m - 2].timestamp)\n",
    "    \n",
    "times.remove(np.max(times));times.remove(np.max(times));\n",
    "\n",
    "plt.figure(\"Conversation Clusters\")\n",
    "plt.xlim(-.0001, .002)\n",
    "plt.scatter(times, [1] * len(times))\n",
    "plt.show()"
   ]
  },
  {
   "cell_type": "code",
   "execution_count": null,
   "metadata": {
    "collapsed": true
   },
   "outputs": [],
   "source": [
    "TIME_DELIM = 60 * 60 * 1000 # 30 minute cutoff between conversations"
   ]
  },
  {
   "cell_type": "code",
   "execution_count": null,
   "metadata": {
    "collapsed": false
   },
   "outputs": [],
   "source": [
    "conversations = [[data[0]]]\n",
    "last_msg = data[0]\n",
    "for msg in data[1:]:\n",
    "    if msg.timestamp - last_msg.timestamp < TIME_DELIM:\n",
    "        conversations[-1].append(msg)\n",
    "    else:\n",
    "        conversations.append([msg])\n",
    "    last_msg = msg\n",
    "\n",
    "print(\"{} segmented conversations, average length {}.\".format(\n",
    "        len(conversations),\n",
    "        np.mean([len(c) for c in conversations])\n",
    "    ))"
   ]
  },
  {
   "cell_type": "code",
   "execution_count": null,
   "metadata": {
    "collapsed": false
   },
   "outputs": [],
   "source": [
    "print(\"{} conversations per day.\".format(len(conversations)/339))\n",
    "\n",
    "SHORT_CUTOFF = 10\n",
    "short_convos = [c for c in conversations if len(c) < SHORT_CUTOFF]\n",
    "print(\"{} conversations are less than {} messages long.\".format(len(short_convos), SHORT_CUTOFF))\n",
    "\n",
    "complex_conversations = [c for c in conversations if c not in short_convos]\n",
    "print(len(complex_conversations))\n"
   ]
  },
  {
   "cell_type": "code",
   "execution_count": null,
   "metadata": {
    "collapsed": false
   },
   "outputs": [],
   "source": [
    "xs = [c[0].timestamp for c in complex_conversations]\n",
    "ys = [len(c) for c in complex_conversations]\n",
    "\n",
    "# plt.scatter(xs, ys)\n",
    "i = 0\n",
    "for c in complex_conversations[400:]:\n",
    "    i += 1 #randomize + or -, so get prettier image\n",
    "    plt.plot([c[0].timestamp, c[0].timestamp + ((c[-1].timestamp - c[0].timestamp))], [1,1], linewidth=2)"
   ]
  }
 ],
 "metadata": {
  "kernelspec": {
   "display_name": "Python 3",
   "language": "python",
   "name": "python3"
  },
  "language_info": {
   "codemirror_mode": {
    "name": "ipython",
    "version": 3
   },
   "file_extension": ".py",
   "mimetype": "text/x-python",
   "name": "python",
   "nbconvert_exporter": "python",
   "pygments_lexer": "ipython3",
   "version": "3.5.1"
  }
 },
 "nbformat": 4,
 "nbformat_minor": 0
}
